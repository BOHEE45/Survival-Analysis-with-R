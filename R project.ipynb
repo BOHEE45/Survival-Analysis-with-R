{
 "cells": [
  {
   "cell_type": "markdown",
   "id": "bf9d30c4",
   "metadata": {},
   "source": [
    "# Lung Data - Survival Analysis with R"
   ]
  },
  {
   "cell_type": "markdown",
   "id": "543844cd",
   "metadata": {},
   "source": [
    "## The Lung Dataset\n",
    "\n",
    "I use the lung dataset available from the survival package survival. \n",
    "The data contain subjects with advanced lung cancer from the North Central Cancer Treatment Group.\n",
    "It includes the 10 following variables:\n",
    "\n",
    "- inst:  Institution code\n",
    "- time:  Survival time in days\n",
    "- status:  censoring status 1=censored, 2=dead\n",
    "- age:  Age in years\n",
    "- sex:  Male=1 Female=2\n",
    "- ph.ecog: ECOG performance score (0=good 5=dead)\n",
    "- ph.karno:  Karnofsky performance score (bad=0-good=100) rated by physician\n",
    "- pat.karno:  Karnofsky performance score (0 = bad, 100 = good) as rated by patient\n",
    "- meal.cal:  Calories consumed at meals\n",
    "- wt.loss:  Weight loss in last six months\n"
   ]
  },
  {
   "cell_type": "code",
   "execution_count": 1,
   "id": "fc52220a",
   "metadata": {},
   "outputs": [
    {
     "name": "stderr",
     "output_type": "stream",
     "text": [
      "필요한 패키지를 로딩중입니다: ggpubr\n",
      "\n",
      "\n",
      "다음의 패키지를 부착합니다: 'survminer'\n",
      "\n",
      "\n",
      "The following object is masked from 'package:survival':\n",
      "\n",
      "    myeloma\n",
      "\n",
      "\n"
     ]
    }
   ],
   "source": [
    "# Load the packages\n",
    "\n",
    "library(survival)\n",
    "library(ggplot2)\n",
    "library(survminer)"
   ]
  },
  {
   "cell_type": "code",
   "execution_count": 18,
   "id": "61f1e51c",
   "metadata": {},
   "outputs": [
    {
     "data": {
      "text/html": [
       "<table class=\"dataframe\">\n",
       "<caption>A tibble: 6 × 10</caption>\n",
       "<thead>\n",
       "\t<tr><th scope=col>inst</th><th scope=col>time</th><th scope=col>status</th><th scope=col>age</th><th scope=col>sex</th><th scope=col>ph.ecog</th><th scope=col>ph.karno</th><th scope=col>pat.karno</th><th scope=col>meal.cal</th><th scope=col>wt.loss</th></tr>\n",
       "\t<tr><th scope=col>&lt;dbl&gt;</th><th scope=col>&lt;dbl&gt;</th><th scope=col>&lt;dbl&gt;</th><th scope=col>&lt;dbl&gt;</th><th scope=col>&lt;dbl&gt;</th><th scope=col>&lt;dbl&gt;</th><th scope=col>&lt;dbl&gt;</th><th scope=col>&lt;dbl&gt;</th><th scope=col>&lt;dbl&gt;</th><th scope=col>&lt;dbl&gt;</th></tr>\n",
       "</thead>\n",
       "<tbody>\n",
       "\t<tr><td> 3</td><td> 306</td><td>2</td><td>74</td><td>1</td><td>1</td><td> 90</td><td>100</td><td>1175</td><td>NA</td></tr>\n",
       "\t<tr><td> 3</td><td> 455</td><td>2</td><td>68</td><td>1</td><td>0</td><td> 90</td><td> 90</td><td>1225</td><td>15</td></tr>\n",
       "\t<tr><td> 3</td><td>1010</td><td>1</td><td>56</td><td>1</td><td>0</td><td> 90</td><td> 90</td><td>  NA</td><td>15</td></tr>\n",
       "\t<tr><td> 5</td><td> 210</td><td>2</td><td>57</td><td>1</td><td>1</td><td> 90</td><td> 60</td><td>1150</td><td>11</td></tr>\n",
       "\t<tr><td> 1</td><td> 883</td><td>2</td><td>60</td><td>1</td><td>0</td><td>100</td><td> 90</td><td>  NA</td><td> 0</td></tr>\n",
       "\t<tr><td>12</td><td>1022</td><td>1</td><td>74</td><td>1</td><td>1</td><td> 50</td><td> 80</td><td> 513</td><td> 0</td></tr>\n",
       "</tbody>\n",
       "</table>\n"
      ],
      "text/latex": [
       "A tibble: 6 × 10\n",
       "\\begin{tabular}{llllllllll}\n",
       " inst & time & status & age & sex & ph.ecog & ph.karno & pat.karno & meal.cal & wt.loss\\\\\n",
       " <dbl> & <dbl> & <dbl> & <dbl> & <dbl> & <dbl> & <dbl> & <dbl> & <dbl> & <dbl>\\\\\n",
       "\\hline\n",
       "\t  3 &  306 & 2 & 74 & 1 & 1 &  90 & 100 & 1175 & NA\\\\\n",
       "\t  3 &  455 & 2 & 68 & 1 & 0 &  90 &  90 & 1225 & 15\\\\\n",
       "\t  3 & 1010 & 1 & 56 & 1 & 0 &  90 &  90 &   NA & 15\\\\\n",
       "\t  5 &  210 & 2 & 57 & 1 & 1 &  90 &  60 & 1150 & 11\\\\\n",
       "\t  1 &  883 & 2 & 60 & 1 & 0 & 100 &  90 &   NA &  0\\\\\n",
       "\t 12 & 1022 & 1 & 74 & 1 & 1 &  50 &  80 &  513 &  0\\\\\n",
       "\\end{tabular}\n"
      ],
      "text/markdown": [
       "\n",
       "A tibble: 6 × 10\n",
       "\n",
       "| inst &lt;dbl&gt; | time &lt;dbl&gt; | status &lt;dbl&gt; | age &lt;dbl&gt; | sex &lt;dbl&gt; | ph.ecog &lt;dbl&gt; | ph.karno &lt;dbl&gt; | pat.karno &lt;dbl&gt; | meal.cal &lt;dbl&gt; | wt.loss &lt;dbl&gt; |\n",
       "|---|---|---|---|---|---|---|---|---|---|\n",
       "|  3 |  306 | 2 | 74 | 1 | 1 |  90 | 100 | 1175 | NA |\n",
       "|  3 |  455 | 2 | 68 | 1 | 0 |  90 |  90 | 1225 | 15 |\n",
       "|  3 | 1010 | 1 | 56 | 1 | 0 |  90 |  90 |   NA | 15 |\n",
       "|  5 |  210 | 2 | 57 | 1 | 1 |  90 |  60 | 1150 | 11 |\n",
       "|  1 |  883 | 2 | 60 | 1 | 0 | 100 |  90 |   NA |  0 |\n",
       "| 12 | 1022 | 1 | 74 | 1 | 1 |  50 |  80 |  513 |  0 |\n",
       "\n"
      ],
      "text/plain": [
       "  inst time status age sex ph.ecog ph.karno pat.karno meal.cal wt.loss\n",
       "1  3    306 2      74  1   1        90      100       1175     NA     \n",
       "2  3    455 2      68  1   0        90       90       1225     15     \n",
       "3  3   1010 1      56  1   0        90       90         NA     15     \n",
       "4  5    210 2      57  1   1        90       60       1150     11     \n",
       "5  1    883 2      60  1   0       100       90         NA      0     \n",
       "6 12   1022 1      74  1   1        50       80        513      0     "
      ]
     },
     "metadata": {},
     "output_type": "display_data"
    },
    {
     "data": {
      "text/html": [
       "<style>\n",
       ".list-inline {list-style: none; margin:0; padding: 0}\n",
       ".list-inline>li {display: inline-block}\n",
       ".list-inline>li:not(:last-child)::after {content: \"\\00b7\"; padding: 0 .5ex}\n",
       "</style>\n",
       "<ol class=list-inline><li>'tbl_df'</li><li>'tbl'</li><li>'data.frame'</li></ol>\n"
      ],
      "text/latex": [
       "\\begin{enumerate*}\n",
       "\\item 'tbl\\_df'\n",
       "\\item 'tbl'\n",
       "\\item 'data.frame'\n",
       "\\end{enumerate*}\n"
      ],
      "text/markdown": [
       "1. 'tbl_df'\n",
       "2. 'tbl'\n",
       "3. 'data.frame'\n",
       "\n",
       "\n"
      ],
      "text/plain": [
       "[1] \"tbl_df\"     \"tbl\"        \"data.frame\""
      ]
     },
     "metadata": {},
     "output_type": "display_data"
    },
    {
     "data": {
      "text/html": [
       "<style>\n",
       ".list-inline {list-style: none; margin:0; padding: 0}\n",
       ".list-inline>li {display: inline-block}\n",
       ".list-inline>li:not(:last-child)::after {content: \"\\00b7\"; padding: 0 .5ex}\n",
       "</style>\n",
       "<ol class=list-inline><li>228</li><li>10</li></ol>\n"
      ],
      "text/latex": [
       "\\begin{enumerate*}\n",
       "\\item 228\n",
       "\\item 10\n",
       "\\end{enumerate*}\n"
      ],
      "text/markdown": [
       "1. 228\n",
       "2. 10\n",
       "\n",
       "\n"
      ],
      "text/plain": [
       "[1] 228  10"
      ]
     },
     "metadata": {},
     "output_type": "display_data"
    }
   ],
   "source": [
    "# View the data\n",
    "\n",
    "head(lung)\n",
    "class(lung)\n",
    "dim(lung)"
   ]
  },
  {
   "cell_type": "markdown",
   "id": "99899e9d",
   "metadata": {},
   "source": [
    "I used the survfit() function to estimate the time of death. For the purpose of creating a simple survival curve that does not consider any different groupings, I specified just an intercept (e.g., ~1) in the formula that survfit expects. First, I calculated the cumulative hazard estimates for lung data. From left to right, you can see the time, remaining number of individuals, number of events, estimated survival distribution, standard error for the survival function, survival function estimate, and its 95% confidence interval."
   ]
  },
  {
   "cell_type": "code",
   "execution_count": 4,
   "id": "d2e91fe8",
   "metadata": {},
   "outputs": [
    {
     "data": {
      "text/plain": [
       "Call: survfit(formula = Surv(time, status) ~ 1, data = lung)\n",
       "\n",
       " time n.risk n.event survival std.err lower 95% CI upper 95% CI\n",
       "    5    228       1   0.9956 0.00438       0.9871        1.000\n",
       "   11    227       3   0.9825 0.00869       0.9656        1.000\n",
       "   12    224       1   0.9781 0.00970       0.9592        0.997\n",
       "   13    223       2   0.9693 0.01142       0.9472        0.992\n",
       "   15    221       1   0.9649 0.01219       0.9413        0.989\n",
       "   26    220       1   0.9605 0.01290       0.9356        0.986\n",
       "   30    219       1   0.9561 0.01356       0.9299        0.983\n",
       "   31    218       1   0.9518 0.01419       0.9243        0.980\n",
       "   53    217       2   0.9430 0.01536       0.9134        0.974\n",
       "   54    215       1   0.9386 0.01590       0.9079        0.970\n",
       "   59    214       1   0.9342 0.01642       0.9026        0.967\n",
       "   60    213       2   0.9254 0.01740       0.8920        0.960\n",
       "   61    211       1   0.9211 0.01786       0.8867        0.957\n",
       "   62    210       1   0.9167 0.01830       0.8815        0.953\n",
       "   65    209       2   0.9079 0.01915       0.8711        0.946\n",
       "   71    207       1   0.9035 0.01955       0.8660        0.943\n",
       "   79    206       1   0.8991 0.01995       0.8609        0.939\n",
       "   81    205       2   0.8904 0.02069       0.8507        0.932\n",
       "   88    203       2   0.8816 0.02140       0.8406        0.925\n",
       "   92    201       1   0.8772 0.02174       0.8356        0.921\n",
       "   93    199       1   0.8728 0.02207       0.8306        0.917\n",
       "   95    198       2   0.8640 0.02271       0.8206        0.910\n",
       "  105    196       1   0.8596 0.02302       0.8156        0.906\n",
       "  107    194       2   0.8507 0.02362       0.8056        0.898\n",
       "  110    192       1   0.8463 0.02391       0.8007        0.894\n",
       "  116    191       1   0.8418 0.02419       0.7957        0.891\n",
       "  118    190       1   0.8374 0.02446       0.7908        0.887\n",
       "  122    189       1   0.8330 0.02473       0.7859        0.883\n",
       "  131    188       1   0.8285 0.02500       0.7810        0.879\n",
       "  132    187       2   0.8197 0.02550       0.7712        0.871\n",
       "  135    185       1   0.8153 0.02575       0.7663        0.867\n",
       "  142    184       1   0.8108 0.02598       0.7615        0.863\n",
       "  144    183       1   0.8064 0.02622       0.7566        0.859\n",
       "  145    182       2   0.7975 0.02667       0.7469        0.852\n",
       "  147    180       1   0.7931 0.02688       0.7421        0.848\n",
       "  153    179       1   0.7887 0.02710       0.7373        0.844\n",
       "  156    178       2   0.7798 0.02751       0.7277        0.836\n",
       "  163    176       3   0.7665 0.02809       0.7134        0.824\n",
       "  166    173       2   0.7577 0.02845       0.7039        0.816\n",
       "  167    171       1   0.7532 0.02863       0.6991        0.811\n",
       "  170    170       1   0.7488 0.02880       0.6944        0.807\n",
       "  175    167       1   0.7443 0.02898       0.6896        0.803\n",
       "  176    165       1   0.7398 0.02915       0.6848        0.799\n",
       "  177    164       1   0.7353 0.02932       0.6800        0.795\n",
       "  179    162       2   0.7262 0.02965       0.6704        0.787\n",
       "  180    160       1   0.7217 0.02981       0.6655        0.783\n",
       "  181    159       2   0.7126 0.03012       0.6559        0.774\n",
       "  182    157       1   0.7081 0.03027       0.6511        0.770\n",
       "  183    156       1   0.7035 0.03041       0.6464        0.766\n",
       "  186    154       1   0.6989 0.03056       0.6416        0.761\n",
       "  189    152       1   0.6943 0.03070       0.6367        0.757\n",
       "  194    149       1   0.6897 0.03085       0.6318        0.753\n",
       "  197    147       1   0.6850 0.03099       0.6269        0.749\n",
       "  199    145       1   0.6803 0.03113       0.6219        0.744\n",
       "  201    144       2   0.6708 0.03141       0.6120        0.735\n",
       "  202    142       1   0.6661 0.03154       0.6071        0.731\n",
       "  207    139       1   0.6613 0.03168       0.6020        0.726\n",
       "  208    138       1   0.6565 0.03181       0.5970        0.722\n",
       "  210    137       1   0.6517 0.03194       0.5920        0.717\n",
       "  212    135       1   0.6469 0.03206       0.5870        0.713\n",
       "  218    134       1   0.6421 0.03218       0.5820        0.708\n",
       "  222    132       1   0.6372 0.03231       0.5769        0.704\n",
       "  223    130       1   0.6323 0.03243       0.5718        0.699\n",
       "  226    126       1   0.6273 0.03256       0.5666        0.694\n",
       "  229    125       1   0.6223 0.03268       0.5614        0.690\n",
       "  230    124       1   0.6172 0.03280       0.5562        0.685\n",
       "  239    121       2   0.6070 0.03304       0.5456        0.675\n",
       "  245    117       1   0.6019 0.03316       0.5402        0.670\n",
       "  246    116       1   0.5967 0.03328       0.5349        0.666\n",
       "  267    112       1   0.5913 0.03341       0.5294        0.661\n",
       "  268    111       1   0.5860 0.03353       0.5239        0.656\n",
       "  269    110       1   0.5807 0.03364       0.5184        0.651\n",
       "  270    108       1   0.5753 0.03376       0.5128        0.645\n",
       "  283    104       1   0.5698 0.03388       0.5071        0.640\n",
       "  284    103       1   0.5642 0.03400       0.5014        0.635\n",
       "  285    101       2   0.5531 0.03424       0.4899        0.624\n",
       "  286     99       1   0.5475 0.03434       0.4841        0.619\n",
       "  288     98       1   0.5419 0.03444       0.4784        0.614\n",
       "  291     97       1   0.5363 0.03454       0.4727        0.608\n",
       "  293     94       1   0.5306 0.03464       0.4669        0.603\n",
       "  301     91       1   0.5248 0.03475       0.4609        0.597\n",
       "  303     89       1   0.5189 0.03485       0.4549        0.592\n",
       "  305     87       1   0.5129 0.03496       0.4488        0.586\n",
       "  306     86       1   0.5070 0.03506       0.4427        0.581\n",
       "  310     85       2   0.4950 0.03523       0.4306        0.569\n",
       "  320     82       1   0.4890 0.03532       0.4244        0.563\n",
       "  329     81       1   0.4830 0.03539       0.4183        0.558\n",
       "  337     79       1   0.4768 0.03547       0.4121        0.552\n",
       "  340     78       1   0.4707 0.03554       0.4060        0.546\n",
       "  345     77       1   0.4646 0.03560       0.3998        0.540\n",
       "  348     76       1   0.4585 0.03565       0.3937        0.534\n",
       "  350     75       1   0.4524 0.03569       0.3876        0.528\n",
       "  351     74       1   0.4463 0.03573       0.3815        0.522\n",
       "  353     73       2   0.4340 0.03578       0.3693        0.510\n",
       "  361     70       1   0.4278 0.03581       0.3631        0.504\n",
       "  363     69       2   0.4154 0.03583       0.3508        0.492\n",
       "  364     67       1   0.4092 0.03582       0.3447        0.486\n",
       "  371     65       2   0.3966 0.03581       0.3323        0.473\n",
       "  387     60       1   0.3900 0.03582       0.3258        0.467\n",
       "  390     59       1   0.3834 0.03582       0.3193        0.460\n",
       "  394     58       1   0.3768 0.03580       0.3128        0.454\n",
       "  426     55       1   0.3700 0.03580       0.3060        0.447\n",
       "  428     54       1   0.3631 0.03579       0.2993        0.440\n",
       "  429     53       1   0.3563 0.03576       0.2926        0.434\n",
       "  433     52       1   0.3494 0.03573       0.2860        0.427\n",
       "  442     51       1   0.3426 0.03568       0.2793        0.420\n",
       "  444     50       1   0.3357 0.03561       0.2727        0.413\n",
       "  450     48       1   0.3287 0.03555       0.2659        0.406\n",
       "  455     47       1   0.3217 0.03548       0.2592        0.399\n",
       "  457     46       1   0.3147 0.03539       0.2525        0.392\n",
       "  460     44       1   0.3076 0.03530       0.2456        0.385\n",
       "  473     43       1   0.3004 0.03520       0.2388        0.378\n",
       "  477     42       1   0.2933 0.03508       0.2320        0.371\n",
       "  519     39       1   0.2857 0.03498       0.2248        0.363\n",
       "  520     38       1   0.2782 0.03485       0.2177        0.356\n",
       "  524     37       2   0.2632 0.03455       0.2035        0.340\n",
       "  533     34       1   0.2554 0.03439       0.1962        0.333\n",
       "  550     32       1   0.2475 0.03423       0.1887        0.325\n",
       "  558     30       1   0.2392 0.03407       0.1810        0.316\n",
       "  567     28       1   0.2307 0.03391       0.1729        0.308\n",
       "  574     27       1   0.2221 0.03371       0.1650        0.299\n",
       "  583     26       1   0.2136 0.03348       0.1571        0.290\n",
       "  613     24       1   0.2047 0.03325       0.1489        0.281\n",
       "  624     23       1   0.1958 0.03297       0.1407        0.272\n",
       "  641     22       1   0.1869 0.03265       0.1327        0.263\n",
       "  643     21       1   0.1780 0.03229       0.1247        0.254\n",
       "  654     20       1   0.1691 0.03188       0.1169        0.245\n",
       "  655     19       1   0.1602 0.03142       0.1091        0.235\n",
       "  687     18       1   0.1513 0.03090       0.1014        0.226\n",
       "  689     17       1   0.1424 0.03034       0.0938        0.216\n",
       "  705     16       1   0.1335 0.02972       0.0863        0.207\n",
       "  707     15       1   0.1246 0.02904       0.0789        0.197\n",
       "  728     14       1   0.1157 0.02830       0.0716        0.187\n",
       "  731     13       1   0.1068 0.02749       0.0645        0.177\n",
       "  735     12       1   0.0979 0.02660       0.0575        0.167\n",
       "  765     10       1   0.0881 0.02568       0.0498        0.156\n",
       "  791      9       1   0.0783 0.02462       0.0423        0.145\n",
       "  814      7       1   0.0671 0.02351       0.0338        0.133\n",
       "  883      4       1   0.0503 0.02285       0.0207        0.123"
      ]
     },
     "metadata": {},
     "output_type": "display_data"
    }
   ],
   "source": [
    "m_s <- survfit(formula = Surv(time,status) ~ 1, data=lung)\n",
    "summary(m_s)"
   ]
  },
  {
   "cell_type": "markdown",
   "id": "a321915f",
   "metadata": {},
   "source": [
    "I used the quantile() function to estimate the time of death. I found that the time at which 50% of patients are estimated to die, i.e., the median, is 310 days."
   ]
  },
  {
   "cell_type": "code",
   "execution_count": 5,
   "id": "89fcc335",
   "metadata": {},
   "outputs": [
    {
     "data": {
      "text/html": [
       "<dl>\n",
       "\t<dt>$quantile</dt>\n",
       "\t\t<dd><style>\n",
       ".dl-inline {width: auto; margin:0; padding: 0}\n",
       ".dl-inline>dt, .dl-inline>dd {float: none; width: auto; display: inline-block}\n",
       ".dl-inline>dt::after {content: \":\\0020\"; padding-right: .5ex}\n",
       ".dl-inline>dt:not(:first-of-type) {padding-left: .5ex}\n",
       "</style><dl class=dl-inline><dt>25</dt><dd>170</dd><dt>50</dt><dd>310</dd><dt>75</dt><dd>550</dd></dl>\n",
       "</dd>\n",
       "\t<dt>$lower</dt>\n",
       "\t\t<dd><style>\n",
       ".dl-inline {width: auto; margin:0; padding: 0}\n",
       ".dl-inline>dt, .dl-inline>dd {float: none; width: auto; display: inline-block}\n",
       ".dl-inline>dt::after {content: \":\\0020\"; padding-right: .5ex}\n",
       ".dl-inline>dt:not(:first-of-type) {padding-left: .5ex}\n",
       "</style><dl class=dl-inline><dt>25</dt><dd>145</dd><dt>50</dt><dd>285</dd><dt>75</dt><dd>460</dd></dl>\n",
       "</dd>\n",
       "\t<dt>$upper</dt>\n",
       "\t\t<dd><style>\n",
       ".dl-inline {width: auto; margin:0; padding: 0}\n",
       ".dl-inline>dt, .dl-inline>dd {float: none; width: auto; display: inline-block}\n",
       ".dl-inline>dt::after {content: \":\\0020\"; padding-right: .5ex}\n",
       ".dl-inline>dt:not(:first-of-type) {padding-left: .5ex}\n",
       "</style><dl class=dl-inline><dt>25</dt><dd>197</dd><dt>50</dt><dd>363</dd><dt>75</dt><dd>654</dd></dl>\n",
       "</dd>\n",
       "</dl>\n"
      ],
      "text/latex": [
       "\\begin{description}\n",
       "\\item[\\$quantile] \\begin{description*}\n",
       "\\item[25] 170\n",
       "\\item[50] 310\n",
       "\\item[75] 550\n",
       "\\end{description*}\n",
       "\n",
       "\\item[\\$lower] \\begin{description*}\n",
       "\\item[25] 145\n",
       "\\item[50] 285\n",
       "\\item[75] 460\n",
       "\\end{description*}\n",
       "\n",
       "\\item[\\$upper] \\begin{description*}\n",
       "\\item[25] 197\n",
       "\\item[50] 363\n",
       "\\item[75] 654\n",
       "\\end{description*}\n",
       "\n",
       "\\end{description}\n"
      ],
      "text/markdown": [
       "$quantile\n",
       ":   25\n",
       ":   17050\n",
       ":   31075\n",
       ":   550\n",
       "\n",
       "\n",
       "$lower\n",
       ":   25\n",
       ":   14550\n",
       ":   28575\n",
       ":   460\n",
       "\n",
       "\n",
       "$upper\n",
       ":   25\n",
       ":   19750\n",
       ":   36375\n",
       ":   654\n",
       "\n",
       "\n",
       "\n",
       "\n"
      ],
      "text/plain": [
       "$quantile\n",
       " 25  50  75 \n",
       "170 310 550 \n",
       "\n",
       "$lower\n",
       " 25  50  75 \n",
       "145 285 460 \n",
       "\n",
       "$upper\n",
       " 25  50  75 \n",
       "197 363 654 \n"
      ]
     },
     "metadata": {},
     "output_type": "display_data"
    }
   ],
   "source": [
    "quantile(m_s, probs=c(0.25,0.5,0.75))"
   ]
  },
  {
   "cell_type": "markdown",
   "id": "641de112",
   "metadata": {},
   "source": [
    "Before visualizing it with a Kaplan-Meier plot, I fit survival curves separately for each sex. We first calculated the cumulative hazard estimates for each sex, and found that the median survival time for Sex1 (male) was 270 days and for Sex2 (female) was 426 days."
   ]
  },
  {
   "cell_type": "code",
   "execution_count": 6,
   "id": "7613e2bf",
   "metadata": {},
   "outputs": [
    {
     "data": {
      "text/plain": [
       "Call: survfit(formula = Surv(time, status) ~ sex, data = lung)\n",
       "\n",
       "        n events median 0.95LCL 0.95UCL\n",
       "sex=1 138    112    270     212     310\n",
       "sex=2  90     53    426     348     550"
      ]
     },
     "metadata": {},
     "output_type": "display_data"
    }
   ],
   "source": [
    "m_s_sex <- survfit(Surv(time,status)~sex,data=lung)\n",
    "m_s_sex"
   ]
  },
  {
   "cell_type": "markdown",
   "id": "8e10f5e6",
   "metadata": {},
   "source": [
    "I used the ggsurvplot() function to visualize the survival curves with a Kaplan-Meier plot. (There is a package called survminer that provides a function called ggsurvplot() that makes it much easier to produce publication-ready survival plots.)"
   ]
  },
  {
   "cell_type": "code",
   "execution_count": 8,
   "id": "a656f5fa",
   "metadata": {},
   "outputs": [
    {
     "data": {
      "image/png": "[encoded data removed]",
      "text/plain": [
       "plot without title"
      ]
     },
     "metadata": {
      "image/png": {
       "height": 420,
       "width": 420
      }
     },
     "output_type": "display_data"
    }
   ],
   "source": [
    "ggsurvplot(m_s_sex, title = \"Kaplan-Meier Curve for Lung Cancer Survival by sex\",\n",
    "           risk.table = F, xlim = c(0,1000),\n",
    "           break.time.by = 200,\n",
    "           xlab = \"Time(Days)\",\n",
    "           conf.int = T,\n",
    "           legend.title = \"\",\n",
    "           legend.labs = c(\"Male\",\"Female\"),\n",
    "           palette = c(\"cyan\", \"hot pink\"))"
   ]
  },
  {
   "cell_type": "markdown",
   "id": "194a1035",
   "metadata": {},
   "source": [
    "To compare the survival curves by gender, I used the survdiff() function to perform a log-rank test.\n",
    "\n",
    "- Null hypothesis (H0): There is no difference in the survival curves by gender.\n",
    "- Alternative hypothesis (H1): There is a difference in the survival curves by gender.\n",
    "\n",
    "The p-value was 0.001, which is smaller than the significance level of 0.05. Therefore, I can reject the null hypothesis and conclude that there is a difference in the survival curves by gender."
   ]
  },
  {
   "cell_type": "code",
   "execution_count": 20,
   "id": "3bd4cc47",
   "metadata": {},
   "outputs": [
    {
     "data": {
      "text/plain": [
       "Call:\n",
       "survdiff(formula = Surv(time, status) ~ sex, data = lung)\n",
       "\n",
       "        N Observed Expected (O-E)^2/E (O-E)^2/V\n",
       "sex=1 138      112     91.6      4.55      10.3\n",
       "sex=2  90       53     73.4      5.68      10.3\n",
       "\n",
       " Chisq= 10.3  on 1 degrees of freedom, p= 0.001 "
      ]
     },
     "metadata": {},
     "output_type": "display_data"
    }
   ],
   "source": [
    "survdiff(Surv(time,status)~sex,data=lung)"
   ]
  },
  {
   "cell_type": "markdown",
   "id": "d38a0c6c",
   "metadata": {},
   "source": [
    "Cox PH regression can assess the effect of both categorical and continuous variables, and can model the effect of multiple variables at once. To test for differences in the time of death based on gender and age, I conducted a Cox proportional hazards regression analysis using the coxph() function. "
   ]
  },
  {
   "cell_type": "code",
   "execution_count": 21,
   "id": "6e88516b",
   "metadata": {},
   "outputs": [
    {
     "data": {
      "text/plain": [
       "Call:\n",
       "coxph(formula = Surv(time, status) ~ sex + age, data = lung)\n",
       "\n",
       "  n= 228, number of events= 165 \n",
       "\n",
       "         coef exp(coef)  se(coef)      z Pr(>|z|)   \n",
       "sex -0.513219  0.598566  0.167458 -3.065  0.00218 **\n",
       "age  0.017045  1.017191  0.009223  1.848  0.06459 . \n",
       "---\n",
       "Signif. codes:  0 '***' 0.001 '**' 0.01 '*' 0.05 '.' 0.1 ' ' 1\n",
       "\n",
       "    exp(coef) exp(-coef) lower .95 upper .95\n",
       "sex    0.5986     1.6707    0.4311    0.8311\n",
       "age    1.0172     0.9831    0.9990    1.0357\n",
       "\n",
       "Concordance= 0.603  (se = 0.025 )\n",
       "Likelihood ratio test= 14.12  on 2 df,   p=9e-04\n",
       "Wald test            = 13.47  on 2 df,   p=0.001\n",
       "Score (logrank) test = 13.72  on 2 df,   p=0.001\n"
      ]
     },
     "metadata": {},
     "output_type": "display_data"
    }
   ],
   "source": [
    "cox <- coxph(Surv(time,status)~sex+age,data=lung)\n",
    "summary(cox)"
   ]
  },
  {
   "cell_type": "markdown",
   "id": "dbad393b",
   "metadata": {},
   "source": [
    "Looking at the output, there are test statistics for the hypothesis that all regression coefficients are 0, including the likelihood ratio test, Wald test statistic, and score test. All three statistics are smaller than the significance level of 0.05, so the null hypothesis is rejected. Therefore, at least one covariate is significant. Looking at the regression coefficient output for age, the coefficient for patient status at diagnosis is 0.017 and the p-value is greater than the significance level of 0.05, so it is not significant. The hazard ratio shows that for each additional year of age, the hazard increases by a factor of 1.0172. Moving on to the results for sex, the coefficient is -0.5132, indicating that females have a lower risk of death compared to males. Additionally, the p-value is less than the significance level of 0.05, so it is significant. Looking at the hazard ratio for sex, exp(coef) is 0.5986, which means that females have a 41% lower risk of death compared to males."
   ]
  }
 ],
 "metadata": {
  "kernelspec": {
   "display_name": "R",
   "language": "R",
   "name": "ir"
  },
  "language_info": {
   "codemirror_mode": "r",
   "file_extension": ".r",
   "mimetype": "text/x-r-source",
   "name": "R",
   "pygments_lexer": "r",
   "version": "4.1.3"
  }
 },
 "nbformat": 4,
 "nbformat_minor": 5
}
